{
 "cells": [
  {
   "cell_type": "markdown",
   "id": "50ff9058-cc37-48fa-acf9-61fa459ff69c",
   "metadata": {},
   "source": [
    "## Importing Packages"
   ]
  },
  {
   "cell_type": "code",
   "execution_count": 1,
   "id": "63b23ba7-ad08-4886-810b-f2fb13ad1bc3",
   "metadata": {
    "tags": []
   },
   "outputs": [],
   "source": [
    "import os\n",
    "import io\n",
    "import zipfile\n",
    "import requests\n",
    "import pandas as pd\n",
    "from dotenv import load_dotenv"
   ]
  },
  {
   "cell_type": "markdown",
   "id": "72959aa2-cde3-4cf1-9c6a-1ffad27b05a9",
   "metadata": {
    "jp-MarkdownHeadingCollapsed": true,
    "tags": []
   },
   "source": [
    "## Utilities"
   ]
  },
  {
   "cell_type": "code",
   "execution_count": 2,
   "id": "0316d1b4-01f4-4c5f-b5cf-4ea785015271",
   "metadata": {
    "tags": []
   },
   "outputs": [],
   "source": [
    "def get_api_key(APIKEY):\n",
    "    \"\"\"Function to get the api keys which are stored inside the env file\"\"\"\n",
    "    load_dotenv()\n",
    "    api_key = os.getenv(APIKEY)\n",
    "    \n",
    "    if api_key is None:\n",
    "        raise ValueError(\"API_KEY not found in the .env file.\")\n",
    "    \n",
    "    return api_key"
   ]
  },
  {
   "cell_type": "code",
   "execution_count": 3,
   "id": "a12ae74d-f9df-4335-b86f-790406c1ff28",
   "metadata": {
    "tags": []
   },
   "outputs": [],
   "source": [
    "def download_and_extract_csv(file_url):\n",
    "    \"\"\"Function to download and extract csv files from zip files\"\"\"\n",
    "    response = requests.get(file_url)\n",
    "    \n",
    "    if response.status_code == 200:\n",
    "        with zipfile.ZipFile(io.BytesIO(response.content)) as z:\n",
    "            csv_filename = z.namelist()[0]\n",
    "            with z.open(csv_filename) as csvfile:\n",
    "                df = pd.read_csv(csvfile)\n",
    "                return df\n",
    "    else:\n",
    "        response.raise_for_status()"
   ]
  },
  {
   "cell_type": "markdown",
   "id": "8a230b6c-5879-4c31-a347-720150b99b12",
   "metadata": {},
   "source": [
    "## Charging Station Data"
   ]
  },
  {
   "cell_type": "code",
   "execution_count": 4,
   "id": "59f6669b-cfb3-4516-96a9-c1e72b699b12",
   "metadata": {
    "tags": []
   },
   "outputs": [
    {
     "data": {
      "text/html": [
       "<div>\n",
       "<style scoped>\n",
       "    .dataframe tbody tr th:only-of-type {\n",
       "        vertical-align: middle;\n",
       "    }\n",
       "\n",
       "    .dataframe tbody tr th {\n",
       "        vertical-align: top;\n",
       "    }\n",
       "\n",
       "    .dataframe thead th {\n",
       "        text-align: right;\n",
       "    }\n",
       "</style>\n",
       "<table border=\"1\" class=\"dataframe\">\n",
       "  <thead>\n",
       "    <tr style=\"text-align: right;\">\n",
       "      <th></th>\n",
       "      <th>access</th>\n",
       "      <th>address</th>\n",
       "      <th>icon</th>\n",
       "      <th>icon_type</th>\n",
       "      <th>id</th>\n",
       "      <th>latitude</th>\n",
       "      <th>longitude</th>\n",
       "      <th>name</th>\n",
       "      <th>score</th>\n",
       "      <th>stations</th>\n",
       "      <th>url</th>\n",
       "    </tr>\n",
       "  </thead>\n",
       "  <tbody>\n",
       "    <tr>\n",
       "      <th>0</th>\n",
       "      <td>1</td>\n",
       "      <td>181 Orchard Rd, Singapore, Singapore, 238896</td>\n",
       "      <td>https://assets.plugshare.com/icons/Y.png</td>\n",
       "      <td>Y</td>\n",
       "      <td>328937</td>\n",
       "      <td>1.300700</td>\n",
       "      <td>103.839780</td>\n",
       "      <td>Orchard Central Supercharger</td>\n",
       "      <td>8.8</td>\n",
       "      <td>[{'id': 772734, 'network_id': 8, 'outlets': [{...</td>\n",
       "      <td>http://api.plugshare.com/view/location/328937</td>\n",
       "    </tr>\n",
       "    <tr>\n",
       "      <th>1</th>\n",
       "      <td>1</td>\n",
       "      <td>1, Jalan Johor Jaya, Taman Perindustrian Plent...</td>\n",
       "      <td>https://assets.plugshare.com/icons/G.png</td>\n",
       "      <td>G</td>\n",
       "      <td>80258</td>\n",
       "      <td>1.529448</td>\n",
       "      <td>103.816505</td>\n",
       "      <td>Nissan Showroom, Johor Jaya</td>\n",
       "      <td>NaN</td>\n",
       "      <td>[{'id': 116912, 'outlets': [{'connector': 2, '...</td>\n",
       "      <td>http://api.plugshare.com/view/location/80258</td>\n",
       "    </tr>\n",
       "    <tr>\n",
       "      <th>2</th>\n",
       "      <td>1</td>\n",
       "      <td>1 Woodlands Square, Singapore 738099</td>\n",
       "      <td>https://assets.plugshare.com/icons/Y.png</td>\n",
       "      <td>Y</td>\n",
       "      <td>405679</td>\n",
       "      <td>1.436111</td>\n",
       "      <td>103.786496</td>\n",
       "      <td>Causeway Point Tesla Supercharger</td>\n",
       "      <td>7.2</td>\n",
       "      <td>[{'id': 977811, 'network_id': 8, 'outlets': [{...</td>\n",
       "      <td>http://api.plugshare.com/view/location/405679</td>\n",
       "    </tr>\n",
       "    <tr>\n",
       "      <th>3</th>\n",
       "      <td>1</td>\n",
       "      <td>seri negeri (government building, public carpark)</td>\n",
       "      <td>https://assets.plugshare.com/icons/G.png</td>\n",
       "      <td>G</td>\n",
       "      <td>154945</td>\n",
       "      <td>1.545174</td>\n",
       "      <td>103.559880</td>\n",
       "      <td>seri negeri (government building, public carpark)</td>\n",
       "      <td>NaN</td>\n",
       "      <td>[{'id': 298794, 'outlets': [{'connector': 7, '...</td>\n",
       "      <td>http://api.plugshare.com/view/location/154945</td>\n",
       "    </tr>\n",
       "    <tr>\n",
       "      <th>4</th>\n",
       "      <td>1</td>\n",
       "      <td>Jalan Putra 4, Bandar Putra, 81000 Kulai, Johor</td>\n",
       "      <td>https://assets.plugshare.com/icons/G.png</td>\n",
       "      <td>G</td>\n",
       "      <td>405597</td>\n",
       "      <td>1.671748</td>\n",
       "      <td>103.650864</td>\n",
       "      <td>New IOI Galleria</td>\n",
       "      <td>NaN</td>\n",
       "      <td>[{'id': 977590, 'outlets': [{'connector': 7, '...</td>\n",
       "      <td>http://api.plugshare.com/view/location/405597</td>\n",
       "    </tr>\n",
       "  </tbody>\n",
       "</table>\n",
       "</div>"
      ],
      "text/plain": [
       "   access                                            address  \\\n",
       "0       1       181 Orchard Rd, Singapore, Singapore, 238896   \n",
       "1       1  1, Jalan Johor Jaya, Taman Perindustrian Plent...   \n",
       "2       1               1 Woodlands Square, Singapore 738099   \n",
       "3       1  seri negeri (government building, public carpark)   \n",
       "4       1    Jalan Putra 4, Bandar Putra, 81000 Kulai, Johor   \n",
       "\n",
       "                                       icon icon_type      id  latitude  \\\n",
       "0  https://assets.plugshare.com/icons/Y.png         Y  328937  1.300700   \n",
       "1  https://assets.plugshare.com/icons/G.png         G   80258  1.529448   \n",
       "2  https://assets.plugshare.com/icons/Y.png         Y  405679  1.436111   \n",
       "3  https://assets.plugshare.com/icons/G.png         G  154945  1.545174   \n",
       "4  https://assets.plugshare.com/icons/G.png         G  405597  1.671748   \n",
       "\n",
       "    longitude                                               name  score  \\\n",
       "0  103.839780                       Orchard Central Supercharger    8.8   \n",
       "1  103.816505                        Nissan Showroom, Johor Jaya    NaN   \n",
       "2  103.786496                  Causeway Point Tesla Supercharger    7.2   \n",
       "3  103.559880  seri negeri (government building, public carpark)    NaN   \n",
       "4  103.650864                                   New IOI Galleria    NaN   \n",
       "\n",
       "                                            stations  \\\n",
       "0  [{'id': 772734, 'network_id': 8, 'outlets': [{...   \n",
       "1  [{'id': 116912, 'outlets': [{'connector': 2, '...   \n",
       "2  [{'id': 977811, 'network_id': 8, 'outlets': [{...   \n",
       "3  [{'id': 298794, 'outlets': [{'connector': 7, '...   \n",
       "4  [{'id': 977590, 'outlets': [{'connector': 7, '...   \n",
       "\n",
       "                                             url  \n",
       "0  http://api.plugshare.com/view/location/328937  \n",
       "1   http://api.plugshare.com/view/location/80258  \n",
       "2  http://api.plugshare.com/view/location/405679  \n",
       "3  http://api.plugshare.com/view/location/154945  \n",
       "4  http://api.plugshare.com/view/location/405597  "
      ]
     },
     "execution_count": 4,
     "metadata": {},
     "output_type": "execute_result"
    }
   ],
   "source": [
    "df = pd.read_json(\"chargingStationData.json\")\n",
    "df.head()"
   ]
  },
  {
   "cell_type": "code",
   "execution_count": 5,
   "id": "ae3a6fa9-7bf9-49bc-817c-6b4b7ef954f1",
   "metadata": {
    "tags": []
   },
   "outputs": [
    {
     "data": {
      "text/plain": [
       "(250, 11)"
      ]
     },
     "execution_count": 5,
     "metadata": {},
     "output_type": "execute_result"
    }
   ],
   "source": [
    "df.shape"
   ]
  },
  {
   "cell_type": "code",
   "execution_count": 6,
   "id": "3da3e757-9807-420a-9434-bbb93252b09f",
   "metadata": {
    "tags": []
   },
   "outputs": [
    {
     "name": "stdout",
     "output_type": "stream",
     "text": [
      "<class 'pandas.core.frame.DataFrame'>\n",
      "RangeIndex: 250 entries, 0 to 249\n",
      "Data columns (total 11 columns):\n",
      " #   Column     Non-Null Count  Dtype  \n",
      "---  ------     --------------  -----  \n",
      " 0   access     250 non-null    int64  \n",
      " 1   address    250 non-null    object \n",
      " 2   icon       250 non-null    object \n",
      " 3   icon_type  250 non-null    object \n",
      " 4   id         250 non-null    int64  \n",
      " 5   latitude   250 non-null    float64\n",
      " 6   longitude  250 non-null    float64\n",
      " 7   name       250 non-null    object \n",
      " 8   score      98 non-null     float64\n",
      " 9   stations   250 non-null    object \n",
      " 10  url        250 non-null    object \n",
      "dtypes: float64(3), int64(2), object(6)\n",
      "memory usage: 21.6+ KB\n"
     ]
    }
   ],
   "source": [
    "df.info()"
   ]
  },
  {
   "cell_type": "code",
   "execution_count": 7,
   "id": "226c87f4-f032-4570-afab-16a7ef31088a",
   "metadata": {
    "tags": []
   },
   "outputs": [
    {
     "data": {
      "text/plain": [
       "access         0\n",
       "address        0\n",
       "icon           0\n",
       "icon_type      0\n",
       "id             0\n",
       "latitude       0\n",
       "longitude      0\n",
       "name           0\n",
       "score        152\n",
       "stations       0\n",
       "url            0\n",
       "dtype: int64"
      ]
     },
     "execution_count": 7,
     "metadata": {},
     "output_type": "execute_result"
    }
   ],
   "source": [
    "df.isna().sum()"
   ]
  },
  {
   "cell_type": "code",
   "execution_count": 8,
   "id": "dd44a9c4-719f-4213-9d94-b63d6ffbb8bc",
   "metadata": {
    "tags": []
   },
   "outputs": [
    {
     "data": {
      "text/plain": [
       "[{'id': 772734,\n",
       "  'network_id': 8,\n",
       "  'outlets': [{'connector': 13,\n",
       "    'id': 2263518,\n",
       "    'kilowatts': 250.0,\n",
       "    'power': 0,\n",
       "    'status': None}]},\n",
       " {'id': 772736,\n",
       "  'network_id': 8,\n",
       "  'outlets': [{'connector': 13,\n",
       "    'id': 2263521,\n",
       "    'kilowatts': 250.0,\n",
       "    'power': 0,\n",
       "    'status': None}]},\n",
       " {'id': 772737,\n",
       "  'network_id': 8,\n",
       "  'outlets': [{'connector': 13,\n",
       "    'id': 2263522,\n",
       "    'kilowatts': 250.0,\n",
       "    'power': 0,\n",
       "    'status': None}]}]"
      ]
     },
     "execution_count": 8,
     "metadata": {},
     "output_type": "execute_result"
    }
   ],
   "source": [
    "df.loc[0, \"stations\"]"
   ]
  },
  {
   "cell_type": "markdown",
   "id": "95f490d8-236a-4bec-bc68-34e1fc04f5f5",
   "metadata": {},
   "source": [
    "## Road Traffic Data"
   ]
  },
  {
   "cell_type": "code",
   "execution_count": 9,
   "id": "50464a5d-c2f4-425f-803f-68b662a05d77",
   "metadata": {
    "tags": []
   },
   "outputs": [
    {
     "data": {
      "text/html": [
       "<div>\n",
       "<style scoped>\n",
       "    .dataframe tbody tr th:only-of-type {\n",
       "        vertical-align: middle;\n",
       "    }\n",
       "\n",
       "    .dataframe tbody tr th {\n",
       "        vertical-align: top;\n",
       "    }\n",
       "\n",
       "    .dataframe thead th {\n",
       "        text-align: right;\n",
       "    }\n",
       "</style>\n",
       "<table border=\"1\" class=\"dataframe\">\n",
       "  <thead>\n",
       "    <tr style=\"text-align: right;\">\n",
       "      <th></th>\n",
       "      <th>odata.metadata</th>\n",
       "      <th>value</th>\n",
       "    </tr>\n",
       "  </thead>\n",
       "  <tbody>\n",
       "    <tr>\n",
       "      <th>0</th>\n",
       "      <td>http://datamall2.mytransport.sg/ltaodataservic...</td>\n",
       "      <td>{'Name': 'AYE', 'Direction': 1, 'FarEndPoint':...</td>\n",
       "    </tr>\n",
       "    <tr>\n",
       "      <th>1</th>\n",
       "      <td>http://datamall2.mytransport.sg/ltaodataservic...</td>\n",
       "      <td>{'Name': 'AYE', 'Direction': 1, 'FarEndPoint':...</td>\n",
       "    </tr>\n",
       "    <tr>\n",
       "      <th>2</th>\n",
       "      <td>http://datamall2.mytransport.sg/ltaodataservic...</td>\n",
       "      <td>{'Name': 'AYE', 'Direction': 1, 'FarEndPoint':...</td>\n",
       "    </tr>\n",
       "    <tr>\n",
       "      <th>3</th>\n",
       "      <td>http://datamall2.mytransport.sg/ltaodataservic...</td>\n",
       "      <td>{'Name': 'AYE', 'Direction': 1, 'FarEndPoint':...</td>\n",
       "    </tr>\n",
       "    <tr>\n",
       "      <th>4</th>\n",
       "      <td>http://datamall2.mytransport.sg/ltaodataservic...</td>\n",
       "      <td>{'Name': 'AYE', 'Direction': 1, 'FarEndPoint':...</td>\n",
       "    </tr>\n",
       "    <tr>\n",
       "      <th>...</th>\n",
       "      <td>...</td>\n",
       "      <td>...</td>\n",
       "    </tr>\n",
       "    <tr>\n",
       "      <th>187</th>\n",
       "      <td>http://datamall2.mytransport.sg/ltaodataservic...</td>\n",
       "      <td>{'Name': 'TPE', 'Direction': 2, 'FarEndPoint':...</td>\n",
       "    </tr>\n",
       "    <tr>\n",
       "      <th>188</th>\n",
       "      <td>http://datamall2.mytransport.sg/ltaodataservic...</td>\n",
       "      <td>{'Name': 'TPE', 'Direction': 2, 'FarEndPoint':...</td>\n",
       "    </tr>\n",
       "    <tr>\n",
       "      <th>189</th>\n",
       "      <td>http://datamall2.mytransport.sg/ltaodataservic...</td>\n",
       "      <td>{'Name': 'TPE', 'Direction': 2, 'FarEndPoint':...</td>\n",
       "    </tr>\n",
       "    <tr>\n",
       "      <th>190</th>\n",
       "      <td>http://datamall2.mytransport.sg/ltaodataservic...</td>\n",
       "      <td>{'Name': 'TPE', 'Direction': 2, 'FarEndPoint':...</td>\n",
       "    </tr>\n",
       "    <tr>\n",
       "      <th>191</th>\n",
       "      <td>http://datamall2.mytransport.sg/ltaodataservic...</td>\n",
       "      <td>{'Name': 'TPE', 'Direction': 2, 'FarEndPoint':...</td>\n",
       "    </tr>\n",
       "  </tbody>\n",
       "</table>\n",
       "<p>192 rows × 2 columns</p>\n",
       "</div>"
      ],
      "text/plain": [
       "                                        odata.metadata  \\\n",
       "0    http://datamall2.mytransport.sg/ltaodataservic...   \n",
       "1    http://datamall2.mytransport.sg/ltaodataservic...   \n",
       "2    http://datamall2.mytransport.sg/ltaodataservic...   \n",
       "3    http://datamall2.mytransport.sg/ltaodataservic...   \n",
       "4    http://datamall2.mytransport.sg/ltaodataservic...   \n",
       "..                                                 ...   \n",
       "187  http://datamall2.mytransport.sg/ltaodataservic...   \n",
       "188  http://datamall2.mytransport.sg/ltaodataservic...   \n",
       "189  http://datamall2.mytransport.sg/ltaodataservic...   \n",
       "190  http://datamall2.mytransport.sg/ltaodataservic...   \n",
       "191  http://datamall2.mytransport.sg/ltaodataservic...   \n",
       "\n",
       "                                                 value  \n",
       "0    {'Name': 'AYE', 'Direction': 1, 'FarEndPoint':...  \n",
       "1    {'Name': 'AYE', 'Direction': 1, 'FarEndPoint':...  \n",
       "2    {'Name': 'AYE', 'Direction': 1, 'FarEndPoint':...  \n",
       "3    {'Name': 'AYE', 'Direction': 1, 'FarEndPoint':...  \n",
       "4    {'Name': 'AYE', 'Direction': 1, 'FarEndPoint':...  \n",
       "..                                                 ...  \n",
       "187  {'Name': 'TPE', 'Direction': 2, 'FarEndPoint':...  \n",
       "188  {'Name': 'TPE', 'Direction': 2, 'FarEndPoint':...  \n",
       "189  {'Name': 'TPE', 'Direction': 2, 'FarEndPoint':...  \n",
       "190  {'Name': 'TPE', 'Direction': 2, 'FarEndPoint':...  \n",
       "191  {'Name': 'TPE', 'Direction': 2, 'FarEndPoint':...  \n",
       "\n",
       "[192 rows x 2 columns]"
      ]
     },
     "execution_count": 9,
     "metadata": {},
     "output_type": "execute_result"
    }
   ],
   "source": [
    "def get_est_travel_times():\n",
    "    url = \"http://datamall2.mytransport.sg/ltaodataservice/EstTravelTimes\"\n",
    "\n",
    "    headers = {\n",
    "        'AccountKey': get_api_key(\"LTA_DATAMALL_KEY\"),\n",
    "        'accept': 'application/json'\n",
    "    }\n",
    "\n",
    "    response = requests.get(url, headers=headers)\n",
    "    \n",
    "    if response.status_code == 200:\n",
    "        return pd.DataFrame(response.json())\n",
    "    else:\n",
    "        response.raise_for_status()\n",
    "        \n",
    "get_est_travel_times()"
   ]
  },
  {
   "cell_type": "markdown",
   "id": "68508c60-c036-402a-85c3-918105ddc1ec",
   "metadata": {},
   "source": [
    "## Passenger Volume by Train Stations"
   ]
  },
  {
   "cell_type": "code",
   "execution_count": 20,
   "id": "33d25bce-e7ec-4740-a2d0-65e0823b6f8a",
   "metadata": {
    "tags": []
   },
   "outputs": [
    {
     "ename": "HTTPError",
     "evalue": "500 Server Error: Internal Server Error for url: http://datamall2.mytransport.sg/ltaodataservice/PV/Train",
     "output_type": "error",
     "traceback": [
      "\u001b[0;31m---------------------------------------------------------------------------\u001b[0m",
      "\u001b[0;31mHTTPError\u001b[0m                                 Traceback (most recent call last)",
      "Cell \u001b[0;32mIn[20], line 18\u001b[0m\n\u001b[1;32m     15\u001b[0m     \u001b[38;5;28;01melse\u001b[39;00m:\n\u001b[1;32m     16\u001b[0m         response\u001b[38;5;241m.\u001b[39mraise_for_status()\n\u001b[0;32m---> 18\u001b[0m \u001b[43mget_train_volume\u001b[49m\u001b[43m(\u001b[49m\u001b[38;5;124;43m'\u001b[39;49m\u001b[38;5;124;43m202405\u001b[39;49m\u001b[38;5;124;43m'\u001b[39;49m\u001b[43m)\u001b[49m\n",
      "Cell \u001b[0;32mIn[20], line 16\u001b[0m, in \u001b[0;36mget_train_volume\u001b[0;34m(date)\u001b[0m\n\u001b[1;32m     14\u001b[0m     \u001b[38;5;28;01mreturn\u001b[39;00m download_and_extract_csv(response\u001b[38;5;241m.\u001b[39mjson()[\u001b[38;5;124m'\u001b[39m\u001b[38;5;124mvalue\u001b[39m\u001b[38;5;124m'\u001b[39m][\u001b[38;5;241m0\u001b[39m][\u001b[38;5;124m'\u001b[39m\u001b[38;5;124mLink\u001b[39m\u001b[38;5;124m'\u001b[39m])\n\u001b[1;32m     15\u001b[0m \u001b[38;5;28;01melse\u001b[39;00m:\n\u001b[0;32m---> 16\u001b[0m     \u001b[43mresponse\u001b[49m\u001b[38;5;241;43m.\u001b[39;49m\u001b[43mraise_for_status\u001b[49m\u001b[43m(\u001b[49m\u001b[43m)\u001b[49m\n",
      "File \u001b[0;32m~/opt/miniconda3/envs/torchenv/lib/python3.9/site-packages/requests/models.py:1021\u001b[0m, in \u001b[0;36mResponse.raise_for_status\u001b[0;34m(self)\u001b[0m\n\u001b[1;32m   1016\u001b[0m     http_error_msg \u001b[38;5;241m=\u001b[39m (\n\u001b[1;32m   1017\u001b[0m         \u001b[38;5;124mf\u001b[39m\u001b[38;5;124m\"\u001b[39m\u001b[38;5;132;01m{\u001b[39;00m\u001b[38;5;28mself\u001b[39m\u001b[38;5;241m.\u001b[39mstatus_code\u001b[38;5;132;01m}\u001b[39;00m\u001b[38;5;124m Server Error: \u001b[39m\u001b[38;5;132;01m{\u001b[39;00mreason\u001b[38;5;132;01m}\u001b[39;00m\u001b[38;5;124m for url: \u001b[39m\u001b[38;5;132;01m{\u001b[39;00m\u001b[38;5;28mself\u001b[39m\u001b[38;5;241m.\u001b[39murl\u001b[38;5;132;01m}\u001b[39;00m\u001b[38;5;124m\"\u001b[39m\n\u001b[1;32m   1018\u001b[0m     )\n\u001b[1;32m   1020\u001b[0m \u001b[38;5;28;01mif\u001b[39;00m http_error_msg:\n\u001b[0;32m-> 1021\u001b[0m     \u001b[38;5;28;01mraise\u001b[39;00m HTTPError(http_error_msg, response\u001b[38;5;241m=\u001b[39m\u001b[38;5;28mself\u001b[39m)\n",
      "\u001b[0;31mHTTPError\u001b[0m: 500 Server Error: Internal Server Error for url: http://datamall2.mytransport.sg/ltaodataservice/PV/Train"
     ]
    }
   ],
   "source": [
    "# This only gives the data for upto 3 months\n",
    "\n",
    "def get_train_volume(date):\n",
    "    url = f\"http://datamall2.mytransport.sg/ltaodataservice/PV/Train\"\n",
    "\n",
    "    headers = {\n",
    "        'AccountKey': get_api_key(\"LTA_DATAMALL_KEY\"),\n",
    "        'accept': 'application/json'\n",
    "    }\n",
    "\n",
    "    response = requests.get(url, headers=headers)\n",
    "    \n",
    "    if response.status_code == 200:\n",
    "        return download_and_extract_csv(response.json()['value'][0]['Link'])\n",
    "    else:\n",
    "        response.raise_for_status()\n",
    "        \n",
    "get_train_volume('202405')"
   ]
  },
  {
   "cell_type": "markdown",
   "id": "c572b353-d549-408d-a3ba-950332b5e493",
   "metadata": {},
   "source": [
    "## Passenger Volume by Bus Stop"
   ]
  },
  {
   "cell_type": "code",
   "execution_count": 16,
   "id": "d0deadac-17b2-4e1c-8677-77af3fb1bcc4",
   "metadata": {
    "tags": []
   },
   "outputs": [
    {
     "data": {
      "text/html": [
       "<div>\n",
       "<style scoped>\n",
       "    .dataframe tbody tr th:only-of-type {\n",
       "        vertical-align: middle;\n",
       "    }\n",
       "\n",
       "    .dataframe tbody tr th {\n",
       "        vertical-align: top;\n",
       "    }\n",
       "\n",
       "    .dataframe thead th {\n",
       "        text-align: right;\n",
       "    }\n",
       "</style>\n",
       "<table border=\"1\" class=\"dataframe\">\n",
       "  <thead>\n",
       "    <tr style=\"text-align: right;\">\n",
       "      <th></th>\n",
       "      <th>YEAR_MONTH</th>\n",
       "      <th>DAY_TYPE</th>\n",
       "      <th>TIME_PER_HOUR</th>\n",
       "      <th>PT_TYPE</th>\n",
       "      <th>PT_CODE</th>\n",
       "      <th>TOTAL_TAP_IN_VOLUME</th>\n",
       "      <th>TOTAL_TAP_OUT_VOLUME</th>\n",
       "    </tr>\n",
       "  </thead>\n",
       "  <tbody>\n",
       "    <tr>\n",
       "      <th>0</th>\n",
       "      <td>2024-05</td>\n",
       "      <td>WEEKENDS/HOLIDAY</td>\n",
       "      <td>17.0</td>\n",
       "      <td>BUS</td>\n",
       "      <td>45379</td>\n",
       "      <td>266</td>\n",
       "      <td>187</td>\n",
       "    </tr>\n",
       "    <tr>\n",
       "      <th>1</th>\n",
       "      <td>2024-05</td>\n",
       "      <td>WEEKDAY</td>\n",
       "      <td>17.0</td>\n",
       "      <td>BUS</td>\n",
       "      <td>45379</td>\n",
       "      <td>510</td>\n",
       "      <td>462</td>\n",
       "    </tr>\n",
       "    <tr>\n",
       "      <th>2</th>\n",
       "      <td>2024-05</td>\n",
       "      <td>WEEKENDS/HOLIDAY</td>\n",
       "      <td>13.0</td>\n",
       "      <td>BUS</td>\n",
       "      <td>80051</td>\n",
       "      <td>1550</td>\n",
       "      <td>1488</td>\n",
       "    </tr>\n",
       "    <tr>\n",
       "      <th>3</th>\n",
       "      <td>2024-05</td>\n",
       "      <td>WEEKDAY</td>\n",
       "      <td>13.0</td>\n",
       "      <td>BUS</td>\n",
       "      <td>80051</td>\n",
       "      <td>2734</td>\n",
       "      <td>2771</td>\n",
       "    </tr>\n",
       "    <tr>\n",
       "      <th>4</th>\n",
       "      <td>2024-05</td>\n",
       "      <td>WEEKENDS/HOLIDAY</td>\n",
       "      <td>13.0</td>\n",
       "      <td>BUS</td>\n",
       "      <td>5319</td>\n",
       "      <td>8</td>\n",
       "      <td>112</td>\n",
       "    </tr>\n",
       "    <tr>\n",
       "      <th>...</th>\n",
       "      <td>...</td>\n",
       "      <td>...</td>\n",
       "      <td>...</td>\n",
       "      <td>...</td>\n",
       "      <td>...</td>\n",
       "      <td>...</td>\n",
       "      <td>...</td>\n",
       "    </tr>\n",
       "    <tr>\n",
       "      <th>198890</th>\n",
       "      <td>2024-05</td>\n",
       "      <td>WEEKENDS/HOLIDAY</td>\n",
       "      <td>20.0</td>\n",
       "      <td>BUS</td>\n",
       "      <td>43381</td>\n",
       "      <td>42</td>\n",
       "      <td>419</td>\n",
       "    </tr>\n",
       "    <tr>\n",
       "      <th>198891</th>\n",
       "      <td>2024-05</td>\n",
       "      <td>WEEKDAY</td>\n",
       "      <td>7.0</td>\n",
       "      <td>BUS</td>\n",
       "      <td>51011</td>\n",
       "      <td>2117</td>\n",
       "      <td>2187</td>\n",
       "    </tr>\n",
       "    <tr>\n",
       "      <th>198892</th>\n",
       "      <td>2024-05</td>\n",
       "      <td>WEEKENDS/HOLIDAY</td>\n",
       "      <td>7.0</td>\n",
       "      <td>BUS</td>\n",
       "      <td>51011</td>\n",
       "      <td>335</td>\n",
       "      <td>360</td>\n",
       "    </tr>\n",
       "    <tr>\n",
       "      <th>198893</th>\n",
       "      <td>2024-05</td>\n",
       "      <td>WEEKDAY</td>\n",
       "      <td>6.0</td>\n",
       "      <td>BUS</td>\n",
       "      <td>13139</td>\n",
       "      <td>194</td>\n",
       "      <td>301</td>\n",
       "    </tr>\n",
       "    <tr>\n",
       "      <th>198894</th>\n",
       "      <td>2024-05</td>\n",
       "      <td>WEEKENDS/HOLIDAY</td>\n",
       "      <td>6.0</td>\n",
       "      <td>BUS</td>\n",
       "      <td>13139</td>\n",
       "      <td>30</td>\n",
       "      <td>129</td>\n",
       "    </tr>\n",
       "  </tbody>\n",
       "</table>\n",
       "<p>198895 rows × 7 columns</p>\n",
       "</div>"
      ],
      "text/plain": [
       "       YEAR_MONTH          DAY_TYPE  TIME_PER_HOUR PT_TYPE  PT_CODE  \\\n",
       "0         2024-05  WEEKENDS/HOLIDAY           17.0     BUS    45379   \n",
       "1         2024-05           WEEKDAY           17.0     BUS    45379   \n",
       "2         2024-05  WEEKENDS/HOLIDAY           13.0     BUS    80051   \n",
       "3         2024-05           WEEKDAY           13.0     BUS    80051   \n",
       "4         2024-05  WEEKENDS/HOLIDAY           13.0     BUS     5319   \n",
       "...           ...               ...            ...     ...      ...   \n",
       "198890    2024-05  WEEKENDS/HOLIDAY           20.0     BUS    43381   \n",
       "198891    2024-05           WEEKDAY            7.0     BUS    51011   \n",
       "198892    2024-05  WEEKENDS/HOLIDAY            7.0     BUS    51011   \n",
       "198893    2024-05           WEEKDAY            6.0     BUS    13139   \n",
       "198894    2024-05  WEEKENDS/HOLIDAY            6.0     BUS    13139   \n",
       "\n",
       "        TOTAL_TAP_IN_VOLUME  TOTAL_TAP_OUT_VOLUME  \n",
       "0                       266                   187  \n",
       "1                       510                   462  \n",
       "2                      1550                  1488  \n",
       "3                      2734                  2771  \n",
       "4                         8                   112  \n",
       "...                     ...                   ...  \n",
       "198890                   42                   419  \n",
       "198891                 2117                  2187  \n",
       "198892                  335                   360  \n",
       "198893                  194                   301  \n",
       "198894                   30                   129  \n",
       "\n",
       "[198895 rows x 7 columns]"
      ]
     },
     "execution_count": 16,
     "metadata": {},
     "output_type": "execute_result"
    }
   ],
   "source": [
    "# This only gives the data for the upto 3 months\n",
    "\n",
    "def get_bus_volume(date):\n",
    "    url = f\"http://datamall2.mytransport.sg/ltaodataservice/PV/Bus?Date={date}\"\n",
    "\n",
    "    headers = {\n",
    "        'AccountKey': get_api_key(\"LTA_DATAMALL_KEY\"),\n",
    "        'accept': 'application/json'\n",
    "    }\n",
    "\n",
    "    response = requests.get(url, headers=headers)\n",
    "    \n",
    "    if response.status_code == 200:\n",
    "        return download_and_extract_csv(response.json()['value'][0]['Link'])\n",
    "    else:\n",
    "        response.raise_for_status()\n",
    "        \n",
    "get_bus_volume('202405')"
   ]
  },
  {
   "cell_type": "markdown",
   "id": "9a6e56e3-adb1-47e0-ba19-e141e660b93b",
   "metadata": {},
   "source": [
    "## Taxi Stand Information"
   ]
  },
  {
   "cell_type": "code",
   "execution_count": 15,
   "id": "5200012e-3df6-4512-bf78-1935fef80bc7",
   "metadata": {
    "tags": []
   },
   "outputs": [
    {
     "data": {
      "text/html": [
       "<div>\n",
       "<style scoped>\n",
       "    .dataframe tbody tr th:only-of-type {\n",
       "        vertical-align: middle;\n",
       "    }\n",
       "\n",
       "    .dataframe tbody tr th {\n",
       "        vertical-align: top;\n",
       "    }\n",
       "\n",
       "    .dataframe thead th {\n",
       "        text-align: right;\n",
       "    }\n",
       "</style>\n",
       "<table border=\"1\" class=\"dataframe\">\n",
       "  <thead>\n",
       "    <tr style=\"text-align: right;\">\n",
       "      <th></th>\n",
       "      <th>odata.metadata</th>\n",
       "      <th>value</th>\n",
       "    </tr>\n",
       "  </thead>\n",
       "  <tbody>\n",
       "    <tr>\n",
       "      <th>0</th>\n",
       "      <td>http://datamall2.mytransport.sg/ltaodataservic...</td>\n",
       "      <td>{'TaxiCode': 'A01', 'Latitude': 1.304294727, '...</td>\n",
       "    </tr>\n",
       "    <tr>\n",
       "      <th>1</th>\n",
       "      <td>http://datamall2.mytransport.sg/ltaodataservic...</td>\n",
       "      <td>{'TaxiCode': 'A05', 'Latitude': 1.304571786, '...</td>\n",
       "    </tr>\n",
       "    <tr>\n",
       "      <th>2</th>\n",
       "      <td>http://datamall2.mytransport.sg/ltaodataservic...</td>\n",
       "      <td>{'TaxiCode': 'A06', 'Latitude': 1.303519805, '...</td>\n",
       "    </tr>\n",
       "    <tr>\n",
       "      <th>3</th>\n",
       "      <td>http://datamall2.mytransport.sg/ltaodataservic...</td>\n",
       "      <td>{'TaxiCode': 'A08', 'Latitude': 1.303709915, '...</td>\n",
       "    </tr>\n",
       "    <tr>\n",
       "      <th>4</th>\n",
       "      <td>http://datamall2.mytransport.sg/ltaodataservic...</td>\n",
       "      <td>{'TaxiCode': 'A12', 'Latitude': 1.302879021, '...</td>\n",
       "    </tr>\n",
       "  </tbody>\n",
       "</table>\n",
       "</div>"
      ],
      "text/plain": [
       "                                      odata.metadata  \\\n",
       "0  http://datamall2.mytransport.sg/ltaodataservic...   \n",
       "1  http://datamall2.mytransport.sg/ltaodataservic...   \n",
       "2  http://datamall2.mytransport.sg/ltaodataservic...   \n",
       "3  http://datamall2.mytransport.sg/ltaodataservic...   \n",
       "4  http://datamall2.mytransport.sg/ltaodataservic...   \n",
       "\n",
       "                                               value  \n",
       "0  {'TaxiCode': 'A01', 'Latitude': 1.304294727, '...  \n",
       "1  {'TaxiCode': 'A05', 'Latitude': 1.304571786, '...  \n",
       "2  {'TaxiCode': 'A06', 'Latitude': 1.303519805, '...  \n",
       "3  {'TaxiCode': 'A08', 'Latitude': 1.303709915, '...  \n",
       "4  {'TaxiCode': 'A12', 'Latitude': 1.302879021, '...  "
      ]
     },
     "execution_count": 15,
     "metadata": {},
     "output_type": "execute_result"
    }
   ],
   "source": [
    "# http://datamall2.mytransport.sg/ltaodataservice/TaxiStands\n",
    "\n",
    "def get_taxi_stand_information():\n",
    "    url = \"http://datamall2.mytransport.sg/ltaodataservice/TaxiStands\"\n",
    "\n",
    "    headers = {\n",
    "        'AccountKey': get_api_key(\"LTA_DATAMALL_KEY\"),\n",
    "        'accept': 'application/json'\n",
    "    }\n",
    "\n",
    "    response = requests.get(url, headers=headers)\n",
    "    \n",
    "    if response.status_code == 200:\n",
    "        return response.json()\n",
    "    else:\n",
    "        response.raise_for_status()\n",
    "        \n",
    "taxi = get_taxi_stand_information()\n",
    "taxi_df = pd.DataFrame(taxi)\n",
    "taxi_df.head()"
   ]
  },
  {
   "cell_type": "code",
   "execution_count": null,
   "id": "83e876f4-d0a8-45d2-8206-9f03ad1741c9",
   "metadata": {},
   "outputs": [],
   "source": []
  }
 ],
 "metadata": {
  "kernelspec": {
   "display_name": "torchenv",
   "language": "python",
   "name": "torchenv"
  },
  "language_info": {
   "codemirror_mode": {
    "name": "ipython",
    "version": 3
   },
   "file_extension": ".py",
   "mimetype": "text/x-python",
   "name": "python",
   "nbconvert_exporter": "python",
   "pygments_lexer": "ipython3",
   "version": "3.9.18"
  }
 },
 "nbformat": 4,
 "nbformat_minor": 5
}
